{
 "cells": [
  {
   "cell_type": "markdown",
   "metadata": {},
   "source": [
    "# Udemy Course: Interactive Data Visualization with Python & Bokeh\n",
    "https://www.udemy.com/python-bokeh/\n",
    "\n",
    "## Course Intro\n",
    "* Install bokeh -- `pip install bokeh`\n",
    "* Uses your data to produce HTML webpage displaying data\n",
    "    * Made up of HTML, Javascript, CSS\n",
    "* Embed bokeh widgets, host graphs on bokeh server, user interaction with graphs, plot real-time streaming data on server\n",
    "\n"
   ]
  },
  {
   "cell_type": "code",
   "execution_count": 2,
   "metadata": {
    "collapsed": true
   },
   "outputs": [],
   "source": [
    "# E. Willmot - 01/2017\n",
    "\n",
    "from bokeh.plotting import figure # Container to add plotting information\n",
    "from bokeh.io import output_file, show\n",
    "import numpy as np\n"
   ]
  },
  {
   "cell_type": "code",
   "execution_count": 3,
   "metadata": {
    "collapsed": true
   },
   "outputs": [],
   "source": [
    "# Create fake data for plotting:\n",
    "x=np.arange(10)\n",
    "y=x**2\n",
    "\n",
    "output_file(\"FirstLine.html\")\n",
    "\n",
    "# Create figure object instance\n",
    "f = figure()"
   ]
  },
  {
   "cell_type": "code",
   "execution_count": 4,
   "metadata": {
    "collapsed": true
   },
   "outputs": [],
   "source": [
    "# Create the line, show it!\n",
    "f.line(x,y)\n",
    "show(f) # Opens in new tab"
   ]
  },
  {
   "cell_type": "markdown",
   "metadata": {},
   "source": [
    "### Notes:\n",
    "Interactivity seems way more intuitive and easy to use than plot.ly (You can use your mouse to click around, draw a box to zoom, or use the wheel on the mouse to zoom.)\n",
    "\n",
    "Also simple button for saving plot as png."
   ]
  },
  {
   "cell_type": "code",
   "execution_count": 8,
   "metadata": {
    "collapsed": true
   },
   "outputs": [],
   "source": [
    "# Shows you what else you can do :\n",
    "#dif(f)\n",
    "\n",
    "f.triangle(x,y) # Scatter points are now triangles\n",
    "show(f)\n",
    "\n",
    "#f.circle(x,y)  # Scatter points are now circles\n",
    "#show(f)"
   ]
  },
  {
   "cell_type": "code",
   "execution_count": null,
   "metadata": {
    "collapsed": true
   },
   "outputs": [],
   "source": []
  }
 ],
 "metadata": {
  "kernelspec": {
   "display_name": "Python 2",
   "language": "python",
   "name": "python2"
  },
  "language_info": {
   "codemirror_mode": {
    "name": "ipython",
    "version": 2
   },
   "file_extension": ".py",
   "mimetype": "text/x-python",
   "name": "python",
   "nbconvert_exporter": "python",
   "pygments_lexer": "ipython2",
   "version": "2.7.12"
  }
 },
 "nbformat": 4,
 "nbformat_minor": 0
}
