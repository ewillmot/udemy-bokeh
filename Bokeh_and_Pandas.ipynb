{
 "cells": [
  {
   "cell_type": "markdown",
   "metadata": {},
   "source": [
    "### Using bokeh with pandas\n",
    "Open / plot data from csv files"
   ]
  },
  {
   "cell_type": "code",
   "execution_count": 5,
   "metadata": {
    "collapsed": true
   },
   "outputs": [],
   "source": [
    "from bokeh.plotting import figure # Container to add plotting information\n",
    "from bokeh.io import output_file, show\n",
    "import numpy as np\n",
    "import os\n",
    "import pandas as pd\n",
    "\n",
    "direc = os.path.join('/Users','elena','Documents','ProfessionalDevelopment',\n",
    "                    'Udemy','DataVisualization-Bokeh')\n",
    "\n",
    "# Data on number of female graduates\n",
    "# each year in different fields\n",
    "data = pd.read_csv(os.path.join(direc,'bachelors.csv')) \n"
   ]
  },
  {
   "cell_type": "code",
   "execution_count": 6,
   "metadata": {
    "collapsed": false
   },
   "outputs": [
    {
     "data": {
      "text/plain": [
       "Index([u'Year', u'Agriculture', u'Architecture', u'Art and Performance',\n",
       "       u'Biology', u'Business', u'Communications and Journalism',\n",
       "       u'Computer Science', u'Education', u'Engineering', u'English',\n",
       "       u'Foreign Languages', u'Health Professions', u'Math and Statistics',\n",
       "       u'Physical Sciences', u'Psychology', u'Public Administration',\n",
       "       u'Social Sciences and History'],\n",
       "      dtype='object')"
      ]
     },
     "execution_count": 6,
     "metadata": {},
     "output_type": "execute_result"
    }
   ],
   "source": [
    "data.columns"
   ]
  },
  {
   "cell_type": "code",
   "execution_count": 8,
   "metadata": {
    "collapsed": false
   },
   "outputs": [],
   "source": [
    "f = figure()\n",
    "f.line(data['Year'],data['Engineering'])\n",
    "show(f)"
   ]
  },
  {
   "cell_type": "code",
   "execution_count": null,
   "metadata": {
    "collapsed": true
   },
   "outputs": [],
   "source": []
  }
 ],
 "metadata": {
  "kernelspec": {
   "display_name": "Python 2",
   "language": "python",
   "name": "python2"
  },
  "language_info": {
   "codemirror_mode": {
    "name": "ipython",
    "version": 2
   },
   "file_extension": ".py",
   "mimetype": "text/x-python",
   "name": "python",
   "nbconvert_exporter": "python",
   "pygments_lexer": "ipython2",
   "version": "2.7.12"
  }
 },
 "nbformat": 4,
 "nbformat_minor": 0
}
